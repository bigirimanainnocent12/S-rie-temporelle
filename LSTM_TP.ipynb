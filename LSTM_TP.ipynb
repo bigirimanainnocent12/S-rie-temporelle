{
  "nbformat": 4,
  "nbformat_minor": 0,
  "metadata": {
    "colab": {
      "provenance": [],
      "authorship_tag": "ABX9TyOILzXaXhzO8gvpZFJnSpS3",
      "include_colab_link": true
    },
    "kernelspec": {
      "name": "python3",
      "display_name": "Python 3"
    },
    "language_info": {
      "name": "python"
    }
  },
  "cells": [
    {
      "cell_type": "markdown",
      "metadata": {
        "id": "view-in-github",
        "colab_type": "text"
      },
      "source": [
        "<a href=\"https://colab.research.google.com/github/bigirimanainnocent12/S-rie-temporelle/blob/main/LSTM_TP.ipynb\" target=\"_parent\"><img src=\"https://colab.research.google.com/assets/colab-badge.svg\" alt=\"Open In Colab\"/></a>"
      ]
    },
    {
      "cell_type": "code",
      "execution_count": 1,
      "metadata": {
        "id": "gsv6RRzQPT9r"
      },
      "outputs": [],
      "source": [
        "import numpy as np\n",
        "import pandas as pd\n",
        "import matplotlib.pyplot as plt\n",
        "from sklearn.decomposition import PCA\n",
        "from sklearn import preprocessing\n",
        "import random\n",
        "\n",
        "import torch\n",
        "import torchvision\n",
        "from torchvision import datasets, transforms\n",
        "from torch.utils.data import DataLoader, random_split\n",
        "from torch.utils.data import Subset\n",
        "import torch.nn as nn\n",
        "import torch.nn.functional as F\n",
        "import torch.optim as optim\n",
        "from torchvision.transforms import v2"
      ]
    },
    {
      "cell_type": "markdown",
      "source": [
        "# **Exercice 1: Prédiction d'une série temporelle pas LSTM**\n",
        "\n",
        "On considère un jeu donnant le nombre de passagers aériens entre janvier 1949 et décembre 1960 (https://www.kaggle.com/datasets/rakannimer/air-passengers)\n",
        "\n",
        "Le code suivant permet d'apprendre un réseau de type LSTM qui permet de prédire le nombre de passager du mois suivant à partir de ceux de l'année précédente. Comprendre chacun des blocs de code, et compléter la définition du lstm. Apprendre les poids du réseau."
      ],
      "metadata": {
        "id": "k-Fo2QZgPcCG"
      }
    },
    {
      "cell_type": "code",
      "source": [
        "import kagglehub\n",
        "\n",
        "# Download latest version\n",
        "path = kagglehub.dataset_download(\"rakannimer/air-passengers\")\n",
        "\n",
        "print(\"Path to dataset files:\", path)\n",
        "\n",
        "data=pd.read_csv(path+\"/AirPassengers.csv\")\n",
        "data.head()\n"
      ],
      "metadata": {
        "colab": {
          "base_uri": "https://localhost:8080/",
          "height": 224
        },
        "id": "HlI82WlhPlgk",
        "outputId": "3c35cbd0-a9da-40a8-a685-e865d0b51682"
      },
      "execution_count": 24,
      "outputs": [
        {
          "output_type": "stream",
          "name": "stdout",
          "text": [
            "Path to dataset files: /root/.cache/kagglehub/datasets/rakannimer/air-passengers/versions/1\n"
          ]
        },
        {
          "output_type": "execute_result",
          "data": {
            "text/plain": [
              "     Month  #Passengers\n",
              "0  1949-01          112\n",
              "1  1949-02          118\n",
              "2  1949-03          132\n",
              "3  1949-04          129\n",
              "4  1949-05          121"
            ],
            "text/html": [
              "\n",
              "  <div id=\"df-f054552f-e4cf-4fd3-9c77-15b9f8ef32e7\" class=\"colab-df-container\">\n",
              "    <div>\n",
              "<style scoped>\n",
              "    .dataframe tbody tr th:only-of-type {\n",
              "        vertical-align: middle;\n",
              "    }\n",
              "\n",
              "    .dataframe tbody tr th {\n",
              "        vertical-align: top;\n",
              "    }\n",
              "\n",
              "    .dataframe thead th {\n",
              "        text-align: right;\n",
              "    }\n",
              "</style>\n",
              "<table border=\"1\" class=\"dataframe\">\n",
              "  <thead>\n",
              "    <tr style=\"text-align: right;\">\n",
              "      <th></th>\n",
              "      <th>Month</th>\n",
              "      <th>#Passengers</th>\n",
              "    </tr>\n",
              "  </thead>\n",
              "  <tbody>\n",
              "    <tr>\n",
              "      <th>0</th>\n",
              "      <td>1949-01</td>\n",
              "      <td>112</td>\n",
              "    </tr>\n",
              "    <tr>\n",
              "      <th>1</th>\n",
              "      <td>1949-02</td>\n",
              "      <td>118</td>\n",
              "    </tr>\n",
              "    <tr>\n",
              "      <th>2</th>\n",
              "      <td>1949-03</td>\n",
              "      <td>132</td>\n",
              "    </tr>\n",
              "    <tr>\n",
              "      <th>3</th>\n",
              "      <td>1949-04</td>\n",
              "      <td>129</td>\n",
              "    </tr>\n",
              "    <tr>\n",
              "      <th>4</th>\n",
              "      <td>1949-05</td>\n",
              "      <td>121</td>\n",
              "    </tr>\n",
              "  </tbody>\n",
              "</table>\n",
              "</div>\n",
              "    <div class=\"colab-df-buttons\">\n",
              "\n",
              "  <div class=\"colab-df-container\">\n",
              "    <button class=\"colab-df-convert\" onclick=\"convertToInteractive('df-f054552f-e4cf-4fd3-9c77-15b9f8ef32e7')\"\n",
              "            title=\"Convert this dataframe to an interactive table.\"\n",
              "            style=\"display:none;\">\n",
              "\n",
              "  <svg xmlns=\"http://www.w3.org/2000/svg\" height=\"24px\" viewBox=\"0 -960 960 960\">\n",
              "    <path d=\"M120-120v-720h720v720H120Zm60-500h600v-160H180v160Zm220 220h160v-160H400v160Zm0 220h160v-160H400v160ZM180-400h160v-160H180v160Zm440 0h160v-160H620v160ZM180-180h160v-160H180v160Zm440 0h160v-160H620v160Z\"/>\n",
              "  </svg>\n",
              "    </button>\n",
              "\n",
              "  <style>\n",
              "    .colab-df-container {\n",
              "      display:flex;\n",
              "      gap: 12px;\n",
              "    }\n",
              "\n",
              "    .colab-df-convert {\n",
              "      background-color: #E8F0FE;\n",
              "      border: none;\n",
              "      border-radius: 50%;\n",
              "      cursor: pointer;\n",
              "      display: none;\n",
              "      fill: #1967D2;\n",
              "      height: 32px;\n",
              "      padding: 0 0 0 0;\n",
              "      width: 32px;\n",
              "    }\n",
              "\n",
              "    .colab-df-convert:hover {\n",
              "      background-color: #E2EBFA;\n",
              "      box-shadow: 0px 1px 2px rgba(60, 64, 67, 0.3), 0px 1px 3px 1px rgba(60, 64, 67, 0.15);\n",
              "      fill: #174EA6;\n",
              "    }\n",
              "\n",
              "    .colab-df-buttons div {\n",
              "      margin-bottom: 4px;\n",
              "    }\n",
              "\n",
              "    [theme=dark] .colab-df-convert {\n",
              "      background-color: #3B4455;\n",
              "      fill: #D2E3FC;\n",
              "    }\n",
              "\n",
              "    [theme=dark] .colab-df-convert:hover {\n",
              "      background-color: #434B5C;\n",
              "      box-shadow: 0px 1px 3px 1px rgba(0, 0, 0, 0.15);\n",
              "      filter: drop-shadow(0px 1px 2px rgba(0, 0, 0, 0.3));\n",
              "      fill: #FFFFFF;\n",
              "    }\n",
              "  </style>\n",
              "\n",
              "    <script>\n",
              "      const buttonEl =\n",
              "        document.querySelector('#df-f054552f-e4cf-4fd3-9c77-15b9f8ef32e7 button.colab-df-convert');\n",
              "      buttonEl.style.display =\n",
              "        google.colab.kernel.accessAllowed ? 'block' : 'none';\n",
              "\n",
              "      async function convertToInteractive(key) {\n",
              "        const element = document.querySelector('#df-f054552f-e4cf-4fd3-9c77-15b9f8ef32e7');\n",
              "        const dataTable =\n",
              "          await google.colab.kernel.invokeFunction('convertToInteractive',\n",
              "                                                    [key], {});\n",
              "        if (!dataTable) return;\n",
              "\n",
              "        const docLinkHtml = 'Like what you see? Visit the ' +\n",
              "          '<a target=\"_blank\" href=https://colab.research.google.com/notebooks/data_table.ipynb>data table notebook</a>'\n",
              "          + ' to learn more about interactive tables.';\n",
              "        element.innerHTML = '';\n",
              "        dataTable['output_type'] = 'display_data';\n",
              "        await google.colab.output.renderOutput(dataTable, element);\n",
              "        const docLink = document.createElement('div');\n",
              "        docLink.innerHTML = docLinkHtml;\n",
              "        element.appendChild(docLink);\n",
              "      }\n",
              "    </script>\n",
              "  </div>\n",
              "\n",
              "\n",
              "<div id=\"df-900d9b07-f609-4817-8065-4e7a33face97\">\n",
              "  <button class=\"colab-df-quickchart\" onclick=\"quickchart('df-900d9b07-f609-4817-8065-4e7a33face97')\"\n",
              "            title=\"Suggest charts\"\n",
              "            style=\"display:none;\">\n",
              "\n",
              "<svg xmlns=\"http://www.w3.org/2000/svg\" height=\"24px\"viewBox=\"0 0 24 24\"\n",
              "     width=\"24px\">\n",
              "    <g>\n",
              "        <path d=\"M19 3H5c-1.1 0-2 .9-2 2v14c0 1.1.9 2 2 2h14c1.1 0 2-.9 2-2V5c0-1.1-.9-2-2-2zM9 17H7v-7h2v7zm4 0h-2V7h2v10zm4 0h-2v-4h2v4z\"/>\n",
              "    </g>\n",
              "</svg>\n",
              "  </button>\n",
              "\n",
              "<style>\n",
              "  .colab-df-quickchart {\n",
              "      --bg-color: #E8F0FE;\n",
              "      --fill-color: #1967D2;\n",
              "      --hover-bg-color: #E2EBFA;\n",
              "      --hover-fill-color: #174EA6;\n",
              "      --disabled-fill-color: #AAA;\n",
              "      --disabled-bg-color: #DDD;\n",
              "  }\n",
              "\n",
              "  [theme=dark] .colab-df-quickchart {\n",
              "      --bg-color: #3B4455;\n",
              "      --fill-color: #D2E3FC;\n",
              "      --hover-bg-color: #434B5C;\n",
              "      --hover-fill-color: #FFFFFF;\n",
              "      --disabled-bg-color: #3B4455;\n",
              "      --disabled-fill-color: #666;\n",
              "  }\n",
              "\n",
              "  .colab-df-quickchart {\n",
              "    background-color: var(--bg-color);\n",
              "    border: none;\n",
              "    border-radius: 50%;\n",
              "    cursor: pointer;\n",
              "    display: none;\n",
              "    fill: var(--fill-color);\n",
              "    height: 32px;\n",
              "    padding: 0;\n",
              "    width: 32px;\n",
              "  }\n",
              "\n",
              "  .colab-df-quickchart:hover {\n",
              "    background-color: var(--hover-bg-color);\n",
              "    box-shadow: 0 1px 2px rgba(60, 64, 67, 0.3), 0 1px 3px 1px rgba(60, 64, 67, 0.15);\n",
              "    fill: var(--button-hover-fill-color);\n",
              "  }\n",
              "\n",
              "  .colab-df-quickchart-complete:disabled,\n",
              "  .colab-df-quickchart-complete:disabled:hover {\n",
              "    background-color: var(--disabled-bg-color);\n",
              "    fill: var(--disabled-fill-color);\n",
              "    box-shadow: none;\n",
              "  }\n",
              "\n",
              "  .colab-df-spinner {\n",
              "    border: 2px solid var(--fill-color);\n",
              "    border-color: transparent;\n",
              "    border-bottom-color: var(--fill-color);\n",
              "    animation:\n",
              "      spin 1s steps(1) infinite;\n",
              "  }\n",
              "\n",
              "  @keyframes spin {\n",
              "    0% {\n",
              "      border-color: transparent;\n",
              "      border-bottom-color: var(--fill-color);\n",
              "      border-left-color: var(--fill-color);\n",
              "    }\n",
              "    20% {\n",
              "      border-color: transparent;\n",
              "      border-left-color: var(--fill-color);\n",
              "      border-top-color: var(--fill-color);\n",
              "    }\n",
              "    30% {\n",
              "      border-color: transparent;\n",
              "      border-left-color: var(--fill-color);\n",
              "      border-top-color: var(--fill-color);\n",
              "      border-right-color: var(--fill-color);\n",
              "    }\n",
              "    40% {\n",
              "      border-color: transparent;\n",
              "      border-right-color: var(--fill-color);\n",
              "      border-top-color: var(--fill-color);\n",
              "    }\n",
              "    60% {\n",
              "      border-color: transparent;\n",
              "      border-right-color: var(--fill-color);\n",
              "    }\n",
              "    80% {\n",
              "      border-color: transparent;\n",
              "      border-right-color: var(--fill-color);\n",
              "      border-bottom-color: var(--fill-color);\n",
              "    }\n",
              "    90% {\n",
              "      border-color: transparent;\n",
              "      border-bottom-color: var(--fill-color);\n",
              "    }\n",
              "  }\n",
              "</style>\n",
              "\n",
              "  <script>\n",
              "    async function quickchart(key) {\n",
              "      const quickchartButtonEl =\n",
              "        document.querySelector('#' + key + ' button');\n",
              "      quickchartButtonEl.disabled = true;  // To prevent multiple clicks.\n",
              "      quickchartButtonEl.classList.add('colab-df-spinner');\n",
              "      try {\n",
              "        const charts = await google.colab.kernel.invokeFunction(\n",
              "            'suggestCharts', [key], {});\n",
              "      } catch (error) {\n",
              "        console.error('Error during call to suggestCharts:', error);\n",
              "      }\n",
              "      quickchartButtonEl.classList.remove('colab-df-spinner');\n",
              "      quickchartButtonEl.classList.add('colab-df-quickchart-complete');\n",
              "    }\n",
              "    (() => {\n",
              "      let quickchartButtonEl =\n",
              "        document.querySelector('#df-900d9b07-f609-4817-8065-4e7a33face97 button');\n",
              "      quickchartButtonEl.style.display =\n",
              "        google.colab.kernel.accessAllowed ? 'block' : 'none';\n",
              "    })();\n",
              "  </script>\n",
              "</div>\n",
              "\n",
              "    </div>\n",
              "  </div>\n"
            ],
            "application/vnd.google.colaboratory.intrinsic+json": {
              "type": "dataframe",
              "variable_name": "data",
              "summary": "{\n  \"name\": \"data\",\n  \"rows\": 144,\n  \"fields\": [\n    {\n      \"column\": \"Month\",\n      \"properties\": {\n        \"dtype\": \"object\",\n        \"num_unique_values\": 144,\n        \"samples\": [\n          \"1958-10\",\n          \"1950-08\",\n          \"1955-11\"\n        ],\n        \"semantic_type\": \"\",\n        \"description\": \"\"\n      }\n    },\n    {\n      \"column\": \"#Passengers\",\n      \"properties\": {\n        \"dtype\": \"number\",\n        \"std\": 119,\n        \"min\": 104,\n        \"max\": 622,\n        \"num_unique_values\": 118,\n        \"samples\": [\n          293,\n          340,\n          121\n        ],\n        \"semantic_type\": \"\",\n        \"description\": \"\"\n      }\n    }\n  ]\n}"
            }
          },
          "metadata": {},
          "execution_count": 24
        }
      ]
    },
    {
      "cell_type": "code",
      "source": [
        "data.info()"
      ],
      "metadata": {
        "colab": {
          "base_uri": "https://localhost:8080/"
        },
        "id": "h-GOK9zsQXB0",
        "outputId": "b141504c-e853-43ab-e982-0fb3e4aa9b30"
      },
      "execution_count": 25,
      "outputs": [
        {
          "output_type": "stream",
          "name": "stdout",
          "text": [
            "<class 'pandas.core.frame.DataFrame'>\n",
            "RangeIndex: 144 entries, 0 to 143\n",
            "Data columns (total 2 columns):\n",
            " #   Column       Non-Null Count  Dtype \n",
            "---  ------       --------------  ----- \n",
            " 0   Month        144 non-null    object\n",
            " 1   #Passengers  144 non-null    int64 \n",
            "dtypes: int64(1), object(1)\n",
            "memory usage: 2.4+ KB\n"
          ]
        }
      ]
    },
    {
      "cell_type": "code",
      "source": [
        "fig_size = plt.rcParams[\"figure.figsize\"]\n",
        "fig_size[0] = 15\n",
        "fig_size[1] = 5\n",
        "plt.rcParams[\"figure.figsize\"] = fig_size\n",
        "plt.title('Month vs Passenger')\n",
        "plt.ylabel('Total Passengers')\n",
        "plt.xlabel('Months')\n",
        "plt.grid(True)\n",
        "plt.autoscale(axis='x',tight=True)\n",
        "plt.plot(data['#Passengers'])"
      ],
      "metadata": {
        "colab": {
          "base_uri": "https://localhost:8080/",
          "height": 505
        },
        "id": "KPLnFpB4QIYV",
        "outputId": "6723f660-baf8-4ceb-9c30-b75e7d7ddd1a"
      },
      "execution_count": 26,
      "outputs": [
        {
          "output_type": "execute_result",
          "data": {
            "text/plain": [
              "[<matplotlib.lines.Line2D at 0x7ec48d17b0d0>]"
            ]
          },
          "metadata": {},
          "execution_count": 26
        },
        {
          "output_type": "display_data",
          "data": {
            "text/plain": [
              "<Figure size 1500x500 with 1 Axes>"
            ],
            "image/png": "[encoded data removed]"
          },
          "metadata": {}
        }
      ]
    },
    {
      "cell_type": "code",
      "source": [
        "all_data = data['#Passengers'].values.astype(float)\n",
        "all_data"
      ],
      "metadata": {
        "colab": {
          "base_uri": "https://localhost:8080/"
        },
        "id": "ajobIiIsQg_9",
        "outputId": "7b956337-f6cc-4944-bafc-2641e65b4792"
      },
      "execution_count": 27,
      "outputs": [
        {
          "output_type": "execute_result",
          "data": {
            "text/plain": [
              "array([112., 118., 132., 129., 121., 135., 148., 148., 136., 119., 104.,\n",
              "       118., 115., 126., 141., 135., 125., 149., 170., 170., 158., 133.,\n",
              "       114., 140., 145., 150., 178., 163., 172., 178., 199., 199., 184.,\n",
              "       162., 146., 166., 171., 180., 193., 181., 183., 218., 230., 242.,\n",
              "       209., 191., 172., 194., 196., 196., 236., 235., 229., 243., 264.,\n",
              "       272., 237., 211., 180., 201., 204., 188., 235., 227., 234., 264.,\n",
              "       302., 293., 259., 229., 203., 229., 242., 233., 267., 269., 270.,\n",
              "       315., 364., 347., 312., 274., 237., 278., 284., 277., 317., 313.,\n",
              "       318., 374., 413., 405., 355., 306., 271., 306., 315., 301., 356.,\n",
              "       348., 355., 422., 465., 467., 404., 347., 305., 336., 340., 318.,\n",
              "       362., 348., 363., 435., 491., 505., 404., 359., 310., 337., 360.,\n",
              "       342., 406., 396., 420., 472., 548., 559., 463., 407., 362., 405.,\n",
              "       417., 391., 419., 461., 472., 535., 622., 606., 508., 461., 390.,\n",
              "       432.])"
            ]
          },
          "metadata": {},
          "execution_count": 27
        }
      ]
    },
    {
      "cell_type": "code",
      "source": [
        "test_data_size = 24\n",
        "\n",
        "train_data = all_data[:-test_data_size]\n",
        "test_data = all_data[-test_data_size:]"
      ],
      "metadata": {
        "id": "OJkEv80mQnu1"
      },
      "execution_count": 28,
      "outputs": []
    },
    {
      "cell_type": "code",
      "source": [
        "from sklearn.preprocessing import MinMaxScaler\n",
        "\n",
        "scaler = MinMaxScaler(feature_range=(-1, 1))\n",
        "train_data_normalized = scaler.fit_transform(train_data .reshape(-1, 1))"
      ],
      "metadata": {
        "id": "84T9y6OiQqmD"
      },
      "execution_count": 29,
      "outputs": []
    },
    {
      "cell_type": "code",
      "source": [
        "print(train_data[:5,])\n",
        "print(train_data_normalized[:5,])"
      ],
      "metadata": {
        "colab": {
          "base_uri": "https://localhost:8080/"
        },
        "id": "oyAg87OLQtFv",
        "outputId": "ddc79d15-83e2-43c2-a358-af0eb7519979"
      },
      "execution_count": 30,
      "outputs": [
        {
          "output_type": "stream",
          "name": "stdout",
          "text": [
            "[112. 118. 132. 129. 121.]\n",
            "[[-0.96009975]\n",
            " [-0.93017456]\n",
            " [-0.86034913]\n",
            " [-0.87531172]\n",
            " [-0.91521197]]\n"
          ]
        }
      ]
    },
    {
      "cell_type": "code",
      "source": [
        "train_data_normalized = torch.FloatTensor(train_data_normalized)\n",
        "train_data_normalized"
      ],
      "metadata": {
        "colab": {
          "base_uri": "https://localhost:8080/"
        },
        "collapsed": true,
        "id": "DpLscJI0Qv5c",
        "outputId": "d2b4406d-7230-4b54-8f8f-269704a7f557"
      },
      "execution_count": 31,
      "outputs": [
        {
          "output_type": "execute_result",
          "data": {
            "text/plain": [
              "tensor([[-0.9601],\n",
              "        [-0.9302],\n",
              "        [-0.8603],\n",
              "        [-0.8753],\n",
              "        [-0.9152],\n",
              "        [-0.8454],\n",
              "        [-0.7805],\n",
              "        [-0.7805],\n",
              "        [-0.8404],\n",
              "        [-0.9252],\n",
              "        [-1.0000],\n",
              "        [-0.9302],\n",
              "        [-0.9451],\n",
              "        [-0.8903],\n",
              "        [-0.8155],\n",
              "        [-0.8454],\n",
              "        [-0.8953],\n",
              "        [-0.7756],\n",
              "        [-0.6708],\n",
              "        [-0.6708],\n",
              "        [-0.7307],\n",
              "        [-0.8554],\n",
              "        [-0.9501],\n",
              "        [-0.8204],\n",
              "        [-0.7955],\n",
              "        [-0.7706],\n",
              "        [-0.6309],\n",
              "        [-0.7057],\n",
              "        [-0.6608],\n",
              "        [-0.6309],\n",
              "        [-0.5262],\n",
              "        [-0.5262],\n",
              "        [-0.6010],\n",
              "        [-0.7107],\n",
              "        [-0.7905],\n",
              "        [-0.6908],\n",
              "        [-0.6658],\n",
              "        [-0.6209],\n",
              "        [-0.5561],\n",
              "        [-0.6160],\n",
              "        [-0.6060],\n",
              "        [-0.4314],\n",
              "        [-0.3716],\n",
              "        [-0.3117],\n",
              "        [-0.4763],\n",
              "        [-0.5661],\n",
              "        [-0.6608],\n",
              "        [-0.5511],\n",
              "        [-0.5411],\n",
              "        [-0.5411],\n",
              "        [-0.3416],\n",
              "        [-0.3466],\n",
              "        [-0.3766],\n",
              "        [-0.3067],\n",
              "        [-0.2020],\n",
              "        [-0.1621],\n",
              "        [-0.3367],\n",
              "        [-0.4663],\n",
              "        [-0.6209],\n",
              "        [-0.5162],\n",
              "        [-0.5012],\n",
              "        [-0.5810],\n",
              "        [-0.3466],\n",
              "        [-0.3865],\n",
              "        [-0.3516],\n",
              "        [-0.2020],\n",
              "        [-0.0125],\n",
              "        [-0.0574],\n",
              "        [-0.2269],\n",
              "        [-0.3766],\n",
              "        [-0.5062],\n",
              "        [-0.3766],\n",
              "        [-0.3117],\n",
              "        [-0.3566],\n",
              "        [-0.1870],\n",
              "        [-0.1771],\n",
              "        [-0.1721],\n",
              "        [ 0.0524],\n",
              "        [ 0.2968],\n",
              "        [ 0.2120],\n",
              "        [ 0.0374],\n",
              "        [-0.1521],\n",
              "        [-0.3367],\n",
              "        [-0.1322],\n",
              "        [-0.1022],\n",
              "        [-0.1372],\n",
              "        [ 0.0623],\n",
              "        [ 0.0424],\n",
              "        [ 0.0673],\n",
              "        [ 0.3466],\n",
              "        [ 0.5411],\n",
              "        [ 0.5012],\n",
              "        [ 0.2519],\n",
              "        [ 0.0075],\n",
              "        [-0.1671],\n",
              "        [ 0.0075],\n",
              "        [ 0.0524],\n",
              "        [-0.0175],\n",
              "        [ 0.2569],\n",
              "        [ 0.2170],\n",
              "        [ 0.2519],\n",
              "        [ 0.5860],\n",
              "        [ 0.8005],\n",
              "        [ 0.8105],\n",
              "        [ 0.4963],\n",
              "        [ 0.2120],\n",
              "        [ 0.0025],\n",
              "        [ 0.1571],\n",
              "        [ 0.1771],\n",
              "        [ 0.0673],\n",
              "        [ 0.2868],\n",
              "        [ 0.2170],\n",
              "        [ 0.2918],\n",
              "        [ 0.6509],\n",
              "        [ 0.9302],\n",
              "        [ 1.0000],\n",
              "        [ 0.4963],\n",
              "        [ 0.2718],\n",
              "        [ 0.0274],\n",
              "        [ 0.1621]])"
            ]
          },
          "metadata": {},
          "execution_count": 31
        }
      ]
    },
    {
      "cell_type": "code",
      "source": [
        "train_window = 12\n",
        "\n",
        "def create_inout_sequences(input_data, tw):\n",
        "    inout_seq = []\n",
        "    L = len(input_data)\n",
        "    for i in range(L-tw):\n",
        "        train_seq = input_data[i:i+tw]\n",
        "        train_label = input_data[i+tw:i+tw+1]\n",
        "        inout_seq.append((train_seq ,train_label))\n",
        "    return inout_seq\n",
        "\n",
        "train_inout_seq = create_inout_sequences(train_data_normalized, train_window)\n",
        "\n",
        "train_inout_seq[:5]"
      ],
      "metadata": {
        "colab": {
          "base_uri": "https://localhost:8080/"
        },
        "collapsed": true,
        "id": "vjO8wrkdQzE0",
        "outputId": "7c50660c-2fba-4295-c9f5-60154e3e0a13"
      },
      "execution_count": 32,
      "outputs": [
        {
          "output_type": "execute_result",
          "data": {
            "text/plain": [
              "[(tensor([[-0.9601],\n",
              "          [-0.9302],\n",
              "          [-0.8603],\n",
              "          [-0.8753],\n",
              "          [-0.9152],\n",
              "          [-0.8454],\n",
              "          [-0.7805],\n",
              "          [-0.7805],\n",
              "          [-0.8404],\n",
              "          [-0.9252],\n",
              "          [-1.0000],\n",
              "          [-0.9302]]),\n",
              "  tensor([[-0.9451]])),\n",
              " (tensor([[-0.9302],\n",
              "          [-0.8603],\n",
              "          [-0.8753],\n",
              "          [-0.9152],\n",
              "          [-0.8454],\n",
              "          [-0.7805],\n",
              "          [-0.7805],\n",
              "          [-0.8404],\n",
              "          [-0.9252],\n",
              "          [-1.0000],\n",
              "          [-0.9302],\n",
              "          [-0.9451]]),\n",
              "  tensor([[-0.8903]])),\n",
              " (tensor([[-0.8603],\n",
              "          [-0.8753],\n",
              "          [-0.9152],\n",
              "          [-0.8454],\n",
              "          [-0.7805],\n",
              "          [-0.7805],\n",
              "          [-0.8404],\n",
              "          [-0.9252],\n",
              "          [-1.0000],\n",
              "          [-0.9302],\n",
              "          [-0.9451],\n",
              "          [-0.8903]]),\n",
              "  tensor([[-0.8155]])),\n",
              " (tensor([[-0.8753],\n",
              "          [-0.9152],\n",
              "          [-0.8454],\n",
              "          [-0.7805],\n",
              "          [-0.7805],\n",
              "          [-0.8404],\n",
              "          [-0.9252],\n",
              "          [-1.0000],\n",
              "          [-0.9302],\n",
              "          [-0.9451],\n",
              "          [-0.8903],\n",
              "          [-0.8155]]),\n",
              "  tensor([[-0.8454]])),\n",
              " (tensor([[-0.9152],\n",
              "          [-0.8454],\n",
              "          [-0.7805],\n",
              "          [-0.7805],\n",
              "          [-0.8404],\n",
              "          [-0.9252],\n",
              "          [-1.0000],\n",
              "          [-0.9302],\n",
              "          [-0.9451],\n",
              "          [-0.8903],\n",
              "          [-0.8155],\n",
              "          [-0.8454]]),\n",
              "  tensor([[-0.8953]]))]"
            ]
          },
          "metadata": {},
          "execution_count": 32
        }
      ]
    },
    {
      "cell_type": "code",
      "source": [
        "class LSTM(nn.Module):\n",
        "    def __init__(self, input_size=1, hidden_layer_size=100, output_size=1):\n",
        "        super().__init__()\n",
        "        self.hidden_layer_size = hidden_layer_size\n",
        "\n",
        "        self.lstm = nn.LSTM(input_size, hidden_layer_size)\n",
        "\n",
        "        self.linear = nn.Linear(hidden_layer_size, output_size)\n",
        "\n",
        "    def forward(self, input_seq):\n",
        "        lstm_out, _ = self.lstm(input_seq.view(len(input_seq) ,1, -1))\n",
        "        predictions = self.linear(lstm_out.view(len(input_seq), -1))\n",
        "        return predictions[-1]"
      ],
      "metadata": {
        "id": "afHLWrV3Q2uG"
      },
      "execution_count": 33,
      "outputs": []
    },
    {
      "cell_type": "code",
      "source": [
        "model = LSTM()\n",
        "loss_function = nn.MSELoss()\n",
        "optimizer = torch.optim.Adam(model.parameters(), lr=0.001)"
      ],
      "metadata": {
        "id": "x4lg4FMASC6D"
      },
      "execution_count": 34,
      "outputs": []
    },
    {
      "cell_type": "code",
      "source": [
        "epochs = 150\n",
        "\n",
        "for i in range(epochs):\n",
        "    for seq, labels in train_inout_seq:\n",
        "        optimizer.zero_grad()\n",
        "        model.hidden_cell = (torch.zeros(1, 1, model.hidden_layer_size),\n",
        "                        torch.zeros(1, 1, model.hidden_layer_size))\n",
        "\n",
        "        y_pred = model(seq)\n",
        "\n",
        "        single_loss = loss_function(y_pred, labels)\n",
        "        single_loss.backward()\n",
        "        optimizer.step()\n",
        "\n",
        "    if i%25 == 1:\n",
        "        print(f'epoch: {i:3} loss: {single_loss.item():10.8f}')\n",
        "\n",
        "print(f'epoch: {i:3} loss: {single_loss.item():10.10f}')"
      ],
      "metadata": {
        "colab": {
          "base_uri": "https://localhost:8080/"
        },
        "id": "2X7hoH3iSH1A",
        "outputId": "d36cf27e-8d5f-4a1f-b272-bc561980b93c"
      },
      "execution_count": 35,
      "outputs": [
        {
          "output_type": "stream",
          "name": "stderr",
          "text": [
            "/usr/local/lib/python3.10/dist-packages/torch/nn/modules/loss.py:608: UserWarning: Using a target size (torch.Size([1, 1])) that is different to the input size (torch.Size([1])). This will likely lead to incorrect results due to broadcasting. Please ensure they have the same size.\n",
            "  return F.mse_loss(input, target, reduction=self.reduction)\n"
          ]
        },
        {
          "output_type": "stream",
          "name": "stdout",
          "text": [
            "epoch:   1 loss: 0.03024825\n",
            "epoch:  26 loss: 0.00051071\n",
            "epoch:  51 loss: 0.00226908\n",
            "epoch:  76 loss: 0.00007823\n",
            "epoch: 101 loss: 0.00011688\n",
            "epoch: 126 loss: 0.00541126\n",
            "epoch: 149 loss: 0.0002698653\n"
          ]
        }
      ]
    },
    {
      "source": [
        "# prompt: Prédire le nombre de passagers par mois dans les deux dernières années (qui ont été retirées du jeu d'apprentissage). Comparer à la réalité de ce qui a été observé. mettrez RMSE ET LE PLOT\n",
        "\n",
        "import numpy as np\n",
        "\n",
        "# Test data normalization\n",
        "test_data_normalized = scaler.transform(test_data.reshape(-1, 1))\n",
        "test_data_normalized = torch.FloatTensor(test_data_normalized)\n",
        "\n",
        "# Prediction\n",
        "fut_pred = 24\n",
        "preds = []\n",
        "\n",
        "# Initial sequence for prediction\n",
        "model.eval()\n",
        "with torch.no_grad():\n",
        "    test_inputs = train_data_normalized[-train_window:].tolist()  # Get initial sequence\n",
        "    for i in range(fut_pred):\n",
        "        seq = torch.FloatTensor(test_inputs[-train_window:])  # Create tensor from sequence\n",
        "        with torch.no_grad():\n",
        "            model.hidden = (torch.zeros(1, 1, model.hidden_layer_size),\n",
        "                            torch.zeros(1, 1, model.hidden_layer_size))\n",
        "            pred = model(seq)\n",
        "\n",
        "        # Append the prediction as a list to maintain the structure of test_inputs\n",
        "        test_inputs.append([pred.item()])\n",
        "\n",
        "        preds.append(pred.item())\n",
        "\n",
        "# Inverse transform to get actual values\n",
        "actual_predictions = scaler.inverse_transform(np.array(preds).reshape(-1, 1))\n",
        "\n",
        "# Calculate RMSE\n",
        "rmse = np.sqrt(np.mean((actual_predictions - test_data) ** 2))\n",
        "print(f\"RMSE: {rmse}\")\n",
        "\n",
        "# Plotting\n",
        "x = np.arange(len(all_data), len(all_data) + len(actual_predictions))\n",
        "plt.plot(x, actual_predictions, label='Predictions')\n",
        "plt.plot(np.arange(len(all_data)), all_data, label='Actual')\n",
        "plt.xlabel('Months')\n",
        "plt.ylabel('Passengers')\n",
        "plt.title('Prediction vs Actual')\n",
        "plt.legend()\n",
        "plt.show()"
      ],
      "cell_type": "code",
      "metadata": {
        "colab": {
          "base_uri": "https://localhost:8080/",
          "height": 505
        },
        "id": "jwx60eUpTsTK",
        "outputId": "0b0640d7-5e47-458b-c2ab-8627b1742b22"
      },
      "execution_count": 36,
      "outputs": [
        {
          "output_type": "stream",
          "name": "stdout",
          "text": [
            "RMSE: 122.56372799131246\n"
          ]
        },
        {
          "output_type": "display_data",
          "data": {
            "text/plain": [
              "<Figure size 1500x500 with 1 Axes>"
            ],
            "image/png": "[encoded data removed]"
          },
          "metadata": {}
        }
      ]
    }
  ]
}